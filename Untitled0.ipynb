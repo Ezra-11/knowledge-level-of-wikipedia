{
  "nbformat": 4,
  "nbformat_minor": 0,
  "metadata": {
    "colab": {
      "provenance": [],
      "toc_visible": true,
      "authorship_tag": "ABX9TyP5mCzqoAPmHFz19lUCep0d",
      "include_colab_link": true
    },
    "kernelspec": {
      "name": "python3",
      "display_name": "Python 3"
    },
    "language_info": {
      "name": "python"
    }
  },
  "cells": [
    {
      "cell_type": "markdown",
      "metadata": {
        "id": "view-in-github",
        "colab_type": "text"
      },
      "source": [
        "<a href=\"https://colab.research.google.com/github/Ezra-11/knowledge-level-of-wikipedia/blob/main/Untitled0.ipynb\" target=\"_parent\"><img src=\"https://colab.research.google.com/assets/colab-badge.svg\" alt=\"Open In Colab\"/></a>"
      ]
    },
    {
      "cell_type": "code",
      "execution_count": null,
      "metadata": {
        "id": "-DaLp5foN0nH"
      },
      "outputs": [],
      "source": []
    },
    {
      "cell_type": "markdown",
      "source": [
        "# 1. Business Understanding\n",
        "\n",
        "## 1.1 Problem Statement\n",
        "Wikipedia content about *Zambia* remains significantly underrepresented, with very few comprehensive pages dedicated to Zambian topics, history, culture, and current affairs. The *DataLab Research group* at The University of Zambia has identified that understanding the knowledge levels and expertise of current Wikipedia contributors working on Zambian content is crucial for developing targeted strategies to improve content quality and quantity.\n",
        "\n",
        "Currently, there is no systematic way to assess the expertise and knowledge depth of contributors to Zambian Wikipedia pages, making it difficult to:\n",
        "\n",
        "- Identify subject matter experts who could mentor new contributors  \n",
        "- Match contributors with appropriate content areas based on their expertise  \n",
        "- Develop targeted training programs for contributors with different knowledge levels  \n",
        "- Optimize content review and quality assurance processes  \n",
        "\n",
        "*Core Problem:* How can we systematically classify and understand the knowledge levels of Wikipedia contributors working on Zambian content to improve the overall quality and quantity of Wikipedia pages about Zambia?"
      ],
      "metadata": {
        "id": "KoNvMGSkbYTv"
      }
    },
    {
      "cell_type": "markdown",
      "source": [],
      "metadata": {
        "id": "8KL50q_PbX4S"
      }
    },
    {
      "cell_type": "code",
      "source": [],
      "metadata": {
        "id": "gafidEvsV_Gl"
      },
      "execution_count": null,
      "outputs": []
    }
  ]
}