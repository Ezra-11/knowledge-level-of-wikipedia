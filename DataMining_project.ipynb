{
  "nbformat": 4,
  "nbformat_minor": 0,
  "metadata": {
    "colab": {
      "provenance": [],
      "include_colab_link": true
    },
    "kernelspec": {
      "name": "python3",
      "display_name": "Python 3"
    },
    "language_info": {
      "name": "python"
    }
  },
  "cells": [
    {
      "cell_type": "markdown",
      "metadata": {
        "id": "view-in-github",
        "colab_type": "text"
      },
      "source": [
        "<a href=\"https://colab.research.google.com/github/Ezra-11/knowledge-level-of-wikipedia/blob/main/DataMining_project.ipynb\" target=\"_parent\"><img src=\"https://colab.research.google.com/assets/colab-badge.svg\" alt=\"Open In Colab\"/></a>"
      ]
    },
    {
      "cell_type": "markdown",
      "source": [
        "# BUSINESS UNDERSTANDING\n",
        "# 1.1 Problem Statement\n",
        "Wikipedia content about *Zambia* remains significantly underrepresented, with very few comprehensive pages dedicated to Zambian topics, history, culture, and current affairs. The *DataLab Research group* at The University of Zambia has identified that understanding the knowledge levels and expertise of current Wikipedia contributors working on Zambian content is crucial for developing targeted strategies to improve content quality and quantity.\n",
        "\n",
        "Currently, there is no systematic way to assess the expertise and knowledge depth of contributors to Zambian Wikipedia pages, making it difficult to:\n",
        "\n",
        "- Identify subject matter experts who could mentor new contributors  \n",
        "- Match contributors with appropriate content areas based on their expertise  \n",
        "- Develop targeted training programs for contributors with different knowledge levels  \n",
        "- Optimize content review and quality assurance processes  \n",
        "\n",
        "*Core Problem:* How can we systematically classify and understand the knowledge levels of Wikipedia contributors working on Zambian content to improve the overall quality and quantity of Wikipedia pages about Zambia?\n",
        "#1.2 Business Objectives\n",
        "Primary Objectives:\n",
        "Enhance Content Quality: Improve the accuracy, depth, and comprehensiveness of Wikipedia articles about Zambia by better understanding contributor expertise levels\n",
        "Optimize Contributor Engagement: Develop targeted strategies to engage contributors based on their knowledge levels and areas of expertise\n",
        "Facilitate Knowledge Transfer: Identify expert contributors who can mentor newcomers and provide guidance on complex topics\n",
        "Improve Content Coverage: Strategically assign content creation and improvement tasks based on contributor knowledge levels\n"
      ],
      "metadata": {
        "id": "GHCCXc0Sm8gi"
      }
    },
    {
      "cell_type": "markdown",
      "source": [],
      "metadata": {
        "id": "NGncAl30zmrn"
      }
    },
    {
      "cell_type": "markdown",
      "source": [],
      "metadata": {
        "id": "xJtRemUazmok"
      }
    },
    {
      "cell_type": "markdown",
      "source": [],
      "metadata": {
        "id": "MKD7m4rZzkdp"
      }
    },
    {
      "cell_type": "markdown",
      "source": [],
      "metadata": {
        "id": "d0f69ddN21JS"
      }
    },
    {
      "cell_type": "markdown",
      "source": [],
      "metadata": {
        "id": "Wdws93kv4YB1"
      }
    },
    {
      "cell_type": "markdown",
      "source": [],
      "metadata": {
        "id": "31gXWIsqyaYK"
      }
    }
  ]
}