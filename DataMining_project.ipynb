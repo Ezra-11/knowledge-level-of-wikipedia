{
  "nbformat": 4,
  "nbformat_minor": 0,
  "metadata": {
    "colab": {
      "provenance": [],
      "include_colab_link": true
    },
    "kernelspec": {
      "name": "python3",
      "display_name": "Python 3"
    },
    "language_info": {
      "name": "python"
    }
  },
  "cells": [
    {
      "cell_type": "markdown",
      "metadata": {
        "id": "view-in-github",
        "colab_type": "text"
      },
      "source": [
        "<a href=\"https://colab.research.google.com/github/Ezra-11/knowledge-level-of-wikipedia/blob/main/DataMining_project.ipynb\" target=\"_parent\"><img src=\"https://colab.research.google.com/assets/colab-badge.svg\" alt=\"Open In Colab\"/></a>"
      ]
    },
    {
      "cell_type": "markdown",
      "source": [
        "# 1. Business Understanding\n",
        "\n",
        "## 1.1 Problem Statement\n",
        "Wikipedia content about *Zambia* remains significantly underrepresented, with very few comprehensive pages dedicated to Zambian topics, history, culture, and current affairs. The *DataLab Research group* at The University of Zambia has identified that understanding the knowledge levels and expertise of current Wikipedia contributors working on Zambian content is crucial for developing targeted strategies to improve content quality and quantity.\n",
        "\n",
        "Currently, there is no systematic way to assess the expertise and knowledge depth of contributors to Zambian Wikipedia pages, making it difficult to:\n",
        "\n",
        "- Identify subject matter experts who could mentor new contributors  \n",
        "- Match contributors with appropriate content areas based on their expertise  \n",
        "- Develop targeted training programs for contributors with different knowledge levels  \n",
        "- Optimize content review and quality assurance processes  \n",
        "\n",
        "*Core Problem:* How can we systematically classify and understand the knowledge levels of Wikipedia contributors working on Zambian content to improve the overall quality and quantity of Wikipedia pages about Zambia?"
      ],
      "metadata": {
        "id": "QX4t4wZizW16"
      }
    },
    {
      "cell_type": "markdown",
      "source": [],
      "metadata": {
        "id": "GHCCXc0Sm8gi"
      }
    },
    {
      "cell_type": "markdown",
      "source": [],
      "metadata": {
        "id": "kqFS6P2CCnmj"
      }
    },
    {
      "cell_type": "markdown",
      "source": [
        "## 1.2 Business Objectives\n",
        "\n",
        "### Primary Objectives:\n",
        "- *Enhance Content Quality:* Improve the accuracy, depth, and comprehensiveness of Wikipedia articles about Zambia by better understanding contributor expertise levels  \n",
        "- *Optimize Contributor Engagement:* Develop targeted strategies to engage contributors based on their knowledge levels and areas of expertise  \n",
        "- *Facilitate Knowledge Transfer:* Identify expert contributors who can mentor newcomers and provide guidance on complex topics  \n",
        "- *Improve Content Coverage:* Strategically assign content creation and improvement tasks based on contributor knowledge levels  \n",
        "\n"
      ],
      "metadata": {
        "id": "x6nkA0Gd2dfk"
      }
    },
    {
      "cell_type": "markdown",
      "source": [
        " Secondary Objectives:\n",
        "- **Build Community Capacity:** Create a framework for assessing and developing Wikipedia contributor skills within the Zambian context  \n",
        "- ***Inform Training Programs:*** Develop evidence-based training curricula tailored to different contributor knowledge levels  \n",
        "- ***Support Academic Research:*** Provide insights into digital knowledge creation patterns in developing countries  \n",
        "\n",
        "### Success Metrics:\n",
        "- *Short-term:* Accurate classification of contributor knowledge levels with measurable confidence scores  \n",
        "- *Medium-term:* Increased quality scores of Zambian Wikipedia articles (measured by completeness, references, and peer ratings)  \n",
        "- ***Long-term:*** Growth in the number of active Zambian Wikipedia contributors and articles about Zambia  \n",
        "\n",
        "\n",
        "\n"
      ],
      "metadata": {
        "id": "__c5mcIc0yaY"
      }
    },
    {
      "cell_type": "markdown",
      "source": [],
      "metadata": {
        "id": "d0f69ddN21JS"
      }
    },
    {
      "cell_type": "markdown",
      "source": [
        "##**1.3 Data Mining Goals**\n",
        "\n",
        "Primary Data Mining Goal:\n",
        "Build a *multi-class classification model* that can automatically categorize Wikipedia contributors working on Zambian content into distinct knowledge level categories (e.g., Novice, Intermediate, Advanced, Expert) based on their contribution patterns, edit quality, and content expertise.\n",
        "\n",
        "###Specific Technical Objectives\n",
        "\n",
        "Feature Engineering\n",
        "Extract meaningful features from contributor data including:\n",
        "- Edit frequency and consistency patterns  \n",
        "- Quality indicators (citations added, grammar improvements, factual accuracy)  \n",
        "- Content complexity (technical terms, specialized knowledge areas)  \n",
        "- Collaboration patterns (talk page participation, peer interactions)  \n",
        "- Longevity and commitment indicators  \n",
        "\n",
        "###Classification Model Development\n",
        "- Implement and compare multiple classification algorithms (Random Forest, SVM, Neural Networks, etc.)  \n",
        "- Develop ensemble methods to improve classification accuracy  \n",
        "- Create interpretable models that explain why a contributor is classified at a particular level  \n",
        "\n",
        "###Clustering Analysis (Secondary)\n",
        "- Identify natural groupings of contributors based on their expertise areas and contribution styles  \n",
        "- Discover contributor archetypes that may not align with traditional knowledge level categories  \n",
        "\n",
        "###Predictive Modeling\n",
        "- Predict potential contributor knowledge growth trajectories  \n",
        "- Identify contributors likely to become long-term, high-quality contributors"
      ],
      "metadata": {
        "id": "Wdws93kv4YB1"
      }
    },
    {
      "cell_type": "markdown",
      "source": [
        "##**1.4 Project Success Criteria**\n",
        "\n",
        "###Model Performance Criteria\n",
        "- *Primary Metric:* Classification accuracy of at least *80%* on a held-out test set  \n",
        "- *Precision and Recall:* Minimum *75%* precision and recall for each knowledge level category  \n",
        "- *F1-Score:* Overall weighted F1-score of at least *0.78*  \n",
        "- *Cross-validation Stability:* Model performance should not vary by more than *5%* across different data splits  \n",
        "\n",
        "###Business Impact Criteria\n",
        "- *Expert Validation:* At least *85%* agreement between model classifications and manual assessments by domain experts  \n",
        "- *Actionability:* Classification results must provide clear, actionable insights for contributor development strategies  \n",
        "- *Scalability:* Model should be able to process new contributors and updates efficiently (*< 1 minute* per contributor)  \n",
        "\n",
        "###Technical Criteria\n",
        "- *Interpretability:* Model decisions must be explainable with feature importance scores and decision reasoning  \n",
        "- *Robustness:* Model should maintain performance when applied to contributors from different time periods  \n",
        "- *Generalizability:* Framework should be adaptable to other developing country contexts or subject areas  \n",
        "\n",
        "###Data Quality Criteria\n",
        "- *Coverage:* Successfully classify at least *90%* of active contributors to Zambian Wikipedia pages  \n",
        "- *Consistency:* Inter-rater reliability (Kappa score) *> 0.7* for manual validation labels  \n",
        "- *Completeness:* Less than *10%* missing data across critical features  \n",
        "\n",
        "###Deployment Criteria\n",
        "- *Integration:* Model should be implementable within existing Wikipedia contributor management workflows  \n",
        "- *User Acceptance:* Positive feedback from at least *80%* of Wikipedia administrators and experienced contributors who test the system  \n",
        "- *Maintenance:* Established process for model updates and performance monitoring over time"
      ],
      "metadata": {
        "id": "31gXWIsqyaYK"
      }
    }
  ]
}